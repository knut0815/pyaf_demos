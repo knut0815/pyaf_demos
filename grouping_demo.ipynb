{
 "cells": [
  {
   "cell_type": "code",
   "execution_count": 54,
   "metadata": {
    "collapsed": true
   },
   "outputs": [],
   "source": [
    "import pandas as pd"
   ]
  },
  {
   "cell_type": "code",
   "execution_count": 55,
   "metadata": {},
   "outputs": [
    {
     "data": {
      "text/plain": [
       "datetime.datetime(2017, 1, 1, 0, 0)"
      ]
     },
     "execution_count": 55,
     "metadata": {},
     "output_type": "execute_result"
    }
   ],
   "source": [
    "pd.datetime(2017, 1, 1)"
   ]
  },
  {
   "cell_type": "code",
   "execution_count": 56,
   "metadata": {},
   "outputs": [
    {
     "data": {
      "text/html": [
       "<div>\n",
       "<style>\n",
       "    .dataframe thead tr:only-child th {\n",
       "        text-align: right;\n",
       "    }\n",
       "\n",
       "    .dataframe thead th {\n",
       "        text-align: left;\n",
       "    }\n",
       "\n",
       "    .dataframe tbody tr th {\n",
       "        vertical-align: top;\n",
       "    }\n",
       "</style>\n",
       "<table border=\"1\" class=\"dataframe\">\n",
       "  <thead>\n",
       "    <tr style=\"text-align: right;\">\n",
       "      <th></th>\n",
       "      <th>date</th>\n",
       "      <th>item</th>\n",
       "      <th>group</th>\n",
       "      <th>signal</th>\n",
       "    </tr>\n",
       "  </thead>\n",
       "  <tbody>\n",
       "    <tr>\n",
       "      <th>0</th>\n",
       "      <td>2017-01-01</td>\n",
       "      <td>item1</td>\n",
       "      <td>group1</td>\n",
       "      <td>4</td>\n",
       "    </tr>\n",
       "    <tr>\n",
       "      <th>1</th>\n",
       "      <td>2017-01-02</td>\n",
       "      <td>item1</td>\n",
       "      <td>group1</td>\n",
       "      <td>24</td>\n",
       "    </tr>\n",
       "    <tr>\n",
       "      <th>2</th>\n",
       "      <td>2017-01-03</td>\n",
       "      <td>item1</td>\n",
       "      <td>group1</td>\n",
       "      <td>31</td>\n",
       "    </tr>\n",
       "    <tr>\n",
       "      <th>3</th>\n",
       "      <td>2017-01-04</td>\n",
       "      <td>item1</td>\n",
       "      <td>group1</td>\n",
       "      <td>2</td>\n",
       "    </tr>\n",
       "    <tr>\n",
       "      <th>4</th>\n",
       "      <td>2017-01-05</td>\n",
       "      <td>item1</td>\n",
       "      <td>group1</td>\n",
       "      <td>3</td>\n",
       "    </tr>\n",
       "    <tr>\n",
       "      <th>5</th>\n",
       "      <td>2017-01-01</td>\n",
       "      <td>item1</td>\n",
       "      <td>group2</td>\n",
       "      <td>4</td>\n",
       "    </tr>\n",
       "    <tr>\n",
       "      <th>6</th>\n",
       "      <td>2017-01-02</td>\n",
       "      <td>item1</td>\n",
       "      <td>group2</td>\n",
       "      <td>24</td>\n",
       "    </tr>\n",
       "    <tr>\n",
       "      <th>7</th>\n",
       "      <td>2017-01-03</td>\n",
       "      <td>item1</td>\n",
       "      <td>group2</td>\n",
       "      <td>31</td>\n",
       "    </tr>\n",
       "    <tr>\n",
       "      <th>8</th>\n",
       "      <td>2017-01-04</td>\n",
       "      <td>item1</td>\n",
       "      <td>group2</td>\n",
       "      <td>2</td>\n",
       "    </tr>\n",
       "    <tr>\n",
       "      <th>9</th>\n",
       "      <td>2017-01-05</td>\n",
       "      <td>item1</td>\n",
       "      <td>group2</td>\n",
       "      <td>3</td>\n",
       "    </tr>\n",
       "    <tr>\n",
       "      <th>10</th>\n",
       "      <td>2017-01-01</td>\n",
       "      <td>item2</td>\n",
       "      <td>group1</td>\n",
       "      <td>2</td>\n",
       "    </tr>\n",
       "    <tr>\n",
       "      <th>11</th>\n",
       "      <td>2017-01-02</td>\n",
       "      <td>item2</td>\n",
       "      <td>group1</td>\n",
       "      <td>3</td>\n",
       "    </tr>\n",
       "    <tr>\n",
       "      <th>12</th>\n",
       "      <td>2017-01-03</td>\n",
       "      <td>item2</td>\n",
       "      <td>group1</td>\n",
       "      <td>5</td>\n",
       "    </tr>\n",
       "    <tr>\n",
       "      <th>13</th>\n",
       "      <td>2017-01-04</td>\n",
       "      <td>item2</td>\n",
       "      <td>group1</td>\n",
       "      <td>7</td>\n",
       "    </tr>\n",
       "    <tr>\n",
       "      <th>14</th>\n",
       "      <td>2017-01-05</td>\n",
       "      <td>item2</td>\n",
       "      <td>group1</td>\n",
       "      <td>9</td>\n",
       "    </tr>\n",
       "  </tbody>\n",
       "</table>\n",
       "</div>"
      ],
      "text/plain": [
       "         date   item   group  signal\n",
       "0  2017-01-01  item1  group1       4\n",
       "1  2017-01-02  item1  group1      24\n",
       "2  2017-01-03  item1  group1      31\n",
       "3  2017-01-04  item1  group1       2\n",
       "4  2017-01-05  item1  group1       3\n",
       "5  2017-01-01  item1  group2       4\n",
       "6  2017-01-02  item1  group2      24\n",
       "7  2017-01-03  item1  group2      31\n",
       "8  2017-01-04  item1  group2       2\n",
       "9  2017-01-05  item1  group2       3\n",
       "10 2017-01-01  item2  group1       2\n",
       "11 2017-01-02  item2  group1       3\n",
       "12 2017-01-03  item2  group1       5\n",
       "13 2017-01-04  item2  group1       7\n",
       "14 2017-01-05  item2  group1       9"
      ]
     },
     "execution_count": 56,
     "metadata": {},
     "output_type": "execute_result"
    }
   ],
   "source": [
    "raw_data = {'date': [pd.datetime(2017, 1, 1), pd.datetime(2017, 1, 2), pd.datetime(2017, 1, 3), pd.datetime(2017, 1, 4), pd.datetime(2017, 1, 5), pd.datetime(2017, 1, 1), pd.datetime(2017, 1, 2), pd.datetime(2017, 1, 3), pd.datetime(2017, 1, 4), pd.datetime(2017, 1, 5), pd.datetime(2017, 1, 1), pd.datetime(2017, 1, 2), pd.datetime(2017, 1, 3), pd.datetime(2017, 1, 4), pd.datetime(2017, 1, 5)],\n",
    "        'item': ['item1', 'item1', 'item1', 'item1', 'item1', 'item1', 'item1', 'item1', 'item1', 'item1', 'item2', 'item2', 'item2', 'item2', 'item2'], \n",
    "        'group': ['group1', 'group1', 'group1', 'group1', 'group1', 'group2', 'group2', 'group2', 'group2', 'group2', 'group1', 'group1', 'group1','group1', 'group1'], \n",
    "        'signal': [4, 24, 31, 2, 3, 4, 24, 31, 2, 3, 2, 3, 5, 7, 9]}\n",
    "df = pd.DataFrame(raw_data, columns = ['date', 'item', 'group', 'signal'])\n",
    "df"
   ]
  },
  {
   "cell_type": "code",
   "execution_count": 57,
   "metadata": {
    "collapsed": true
   },
   "outputs": [],
   "source": [
    "Items = df['item'].unique().astype(str)\n",
    "\n",
    "Groups = df['group'].unique().astype(str)"
   ]
  },
  {
   "cell_type": "code",
   "execution_count": 58,
   "metadata": {
    "collapsed": true
   },
   "outputs": [],
   "source": [
    "df.set_index('date', drop=True, inplace=True)"
   ]
  },
  {
   "cell_type": "code",
   "execution_count": 59,
   "metadata": {},
   "outputs": [],
   "source": [
    "df['item_group'] = df['item'].astype(str) + '_' + df['group'].astype(str)"
   ]
  },
  {
   "cell_type": "code",
   "execution_count": 60,
   "metadata": {},
   "outputs": [],
   "source": [
    "df.drop(['item', 'group'], axis=1, inplace=True)"
   ]
  },
  {
   "cell_type": "code",
   "execution_count": 61,
   "metadata": {
    "collapsed": true
   },
   "outputs": [],
   "source": [
    "df = df.pivot(columns='item_group', values='signal')"
   ]
  },
  {
   "cell_type": "code",
   "execution_count": 62,
   "metadata": {
    "collapsed": true
   },
   "outputs": [],
   "source": [
    "df.reset_index(inplace=True)"
   ]
  },
  {
   "cell_type": "code",
   "execution_count": 63,
   "metadata": {},
   "outputs": [
    {
     "data": {
      "text/html": [
       "<div>\n",
       "<style>\n",
       "    .dataframe thead tr:only-child th {\n",
       "        text-align: right;\n",
       "    }\n",
       "\n",
       "    .dataframe thead th {\n",
       "        text-align: left;\n",
       "    }\n",
       "\n",
       "    .dataframe tbody tr th {\n",
       "        vertical-align: top;\n",
       "    }\n",
       "</style>\n",
       "<table border=\"1\" class=\"dataframe\">\n",
       "  <thead>\n",
       "    <tr style=\"text-align: right;\">\n",
       "      <th>item_group</th>\n",
       "      <th>date</th>\n",
       "      <th>item1_group1</th>\n",
       "      <th>item1_group2</th>\n",
       "      <th>item2_group1</th>\n",
       "    </tr>\n",
       "  </thead>\n",
       "  <tbody>\n",
       "    <tr>\n",
       "      <th>0</th>\n",
       "      <td>2017-01-01</td>\n",
       "      <td>4</td>\n",
       "      <td>4</td>\n",
       "      <td>2</td>\n",
       "    </tr>\n",
       "    <tr>\n",
       "      <th>1</th>\n",
       "      <td>2017-01-02</td>\n",
       "      <td>24</td>\n",
       "      <td>24</td>\n",
       "      <td>3</td>\n",
       "    </tr>\n",
       "    <tr>\n",
       "      <th>2</th>\n",
       "      <td>2017-01-03</td>\n",
       "      <td>31</td>\n",
       "      <td>31</td>\n",
       "      <td>5</td>\n",
       "    </tr>\n",
       "    <tr>\n",
       "      <th>3</th>\n",
       "      <td>2017-01-04</td>\n",
       "      <td>2</td>\n",
       "      <td>2</td>\n",
       "      <td>7</td>\n",
       "    </tr>\n",
       "    <tr>\n",
       "      <th>4</th>\n",
       "      <td>2017-01-05</td>\n",
       "      <td>3</td>\n",
       "      <td>3</td>\n",
       "      <td>9</td>\n",
       "    </tr>\n",
       "  </tbody>\n",
       "</table>\n",
       "</div>"
      ],
      "text/plain": [
       "item_group       date  item1_group1  item1_group2  item2_group1\n",
       "0          2017-01-01             4             4             2\n",
       "1          2017-01-02            24            24             3\n",
       "2          2017-01-03            31            31             5\n",
       "3          2017-01-04             2             2             7\n",
       "4          2017-01-05             3             3             9"
      ]
     },
     "execution_count": 63,
     "metadata": {},
     "output_type": "execute_result"
    }
   ],
   "source": [
    "df"
   ]
  },
  {
   "cell_type": "code",
   "execution_count": 64,
   "metadata": {
    "collapsed": true
   },
   "outputs": [],
   "source": [
    "# Grouping definition\n",
    "lGroups = {}\n",
    "lGroups[\"Group\"] = Groups\n",
    "lGroups[\"Item\"] = Items\n",
    "\n",
    "lHierarchy = {};\n",
    "lHierarchy['Levels'] = None;\n",
    "lHierarchy['Data'] = None;\n",
    "lHierarchy['Groups']= lGroups;\n",
    "lHierarchy['GroupOrder']= [\"Item\", \"Group\"]; \n",
    "lHierarchy['Type'] = \"Grouped\";"
   ]
  },
  {
   "cell_type": "code",
   "execution_count": 65,
   "metadata": {},
   "outputs": [
    {
     "data": {
      "text/plain": [
       "{'Data': None,\n",
       " 'GroupOrder': ['Item', 'Group'],\n",
       " 'Groups': {'Group': array(['group1', 'group2'],\n",
       "        dtype='<U6'), 'Item': array(['item1', 'item2'],\n",
       "        dtype='<U5')},\n",
       " 'Levels': None,\n",
       " 'Type': 'Grouped'}"
      ]
     },
     "execution_count": 65,
     "metadata": {},
     "output_type": "execute_result"
    }
   ],
   "source": [
    "lHierarchy"
   ]
  },
  {
   "cell_type": "code",
   "execution_count": 66,
   "metadata": {},
   "outputs": [
    {
     "name": "stderr",
     "output_type": "stream",
     "text": [
      "INFO:pyaf.std:START_HIERARCHICAL_TRAINING\n",
      "INFO:pyaf.hierarchical:TRAINING_MODEL_LEVEL_SIGNAL 0 item1_group1\n",
      "INFO:pyaf.std:START_TRAINING 'item1_group1'\n",
      "INFO:pyaf.std:END_TRAINING_TIME_IN_SECONDS 'item1_group1' 2.586060047149658\n",
      "INFO:pyaf.std:TIME_DETAIL TimeVariable='date' TimeMin=2017-01-01T00:00:00.000000 TimeMax=2017-01-05T00:00:00.000000 TimeDelta=1 days Estimation = (0 , 5) Validation = (0 , 5) Test = (0 , 5) Horizon=1\n",
      "INFO:pyaf.std:SIGNAL_DETAIL SignalVariable='Diff_item1_group1' Min=-29.0 Max=20.0  Mean=-0.2 StdDev=16.0673582147\n",
      "INFO:pyaf.std:BEST_TRANSOFORMATION_TYPE 'Diff_'\n",
      "INFO:pyaf.std:BEST_DECOMPOSITION  'Diff_item1_group1_ConstantTrend_residue_zeroCycle_residue_NoAR' [ConstantTrend + NoCycle + NoAR]\n",
      "INFO:pyaf.std:TREND_DETAIL 'Diff_item1_group1_ConstantTrend' [ConstantTrend]\n",
      "INFO:pyaf.std:CYCLE_DETAIL 'Diff_item1_group1_ConstantTrend_residue_zeroCycle' [NoCycle]\n",
      "INFO:pyaf.std:AUTOREG_DETAIL 'Diff_item1_group1_ConstantTrend_residue_zeroCycle_residue_NoAR' [NoAR]\n",
      "INFO:pyaf.std:MODEL_MAPE MAPE_Fit=0.4781 MAPE_Forecast=0.4781 MAPE_Test=0.4781\n",
      "INFO:pyaf.std:MODEL_MASE MASE_Fit=0.6933 MASE_Forecast=0.6933 MASE_Test=0.6933\n",
      "INFO:pyaf.std:MODEL_L1 L1_Fit=None L1_Forecast=None L1_Test=None\n",
      "INFO:pyaf.std:MODEL_L2 L2_Fit=None L2_Forecast=None L2_Test=None\n",
      "INFO:pyaf.std:MODEL_COMPLEXITY 32\n",
      "INFO:pyaf.std:AR_MODEL_DETAIL_START\n",
      "INFO:pyaf.std:AR_MODEL_DETAIL_END\n",
      "INFO:pyaf.hierarchical:TRAINING_MODEL_LEVEL_SIGNAL 0 item1_group2\n",
      "INFO:pyaf.std:START_TRAINING 'item1_group2'\n",
      "INFO:pyaf.std:END_TRAINING_TIME_IN_SECONDS 'item1_group2' 1.8854939937591553\n",
      "INFO:pyaf.std:TIME_DETAIL TimeVariable='date' TimeMin=2017-01-01T00:00:00.000000 TimeMax=2017-01-05T00:00:00.000000 TimeDelta=1 days Estimation = (0 , 5) Validation = (0 , 5) Test = (0 , 5) Horizon=1\n",
      "INFO:pyaf.std:SIGNAL_DETAIL SignalVariable='Diff_item1_group2' Min=-29.0 Max=20.0  Mean=-0.2 StdDev=16.0673582147\n",
      "INFO:pyaf.std:BEST_TRANSOFORMATION_TYPE 'Diff_'\n",
      "INFO:pyaf.std:BEST_DECOMPOSITION  'Diff_item1_group2_ConstantTrend_residue_zeroCycle_residue_NoAR' [ConstantTrend + NoCycle + NoAR]\n",
      "INFO:pyaf.std:TREND_DETAIL 'Diff_item1_group2_ConstantTrend' [ConstantTrend]\n",
      "INFO:pyaf.std:CYCLE_DETAIL 'Diff_item1_group2_ConstantTrend_residue_zeroCycle' [NoCycle]\n",
      "INFO:pyaf.std:AUTOREG_DETAIL 'Diff_item1_group2_ConstantTrend_residue_zeroCycle_residue_NoAR' [NoAR]\n",
      "INFO:pyaf.std:MODEL_MAPE MAPE_Fit=0.4781 MAPE_Forecast=0.4781 MAPE_Test=0.4781\n",
      "INFO:pyaf.std:MODEL_MASE MASE_Fit=0.6933 MASE_Forecast=0.6933 MASE_Test=0.6933\n",
      "INFO:pyaf.std:MODEL_L1 L1_Fit=None L1_Forecast=None L1_Test=None\n",
      "INFO:pyaf.std:MODEL_L2 L2_Fit=None L2_Forecast=None L2_Test=None\n",
      "INFO:pyaf.std:MODEL_COMPLEXITY 32\n",
      "INFO:pyaf.std:AR_MODEL_DETAIL_START\n",
      "INFO:pyaf.std:AR_MODEL_DETAIL_END\n",
      "INFO:pyaf.hierarchical:TRAINING_MODEL_LEVEL_SIGNAL 0 item2_group1\n",
      "INFO:pyaf.std:START_TRAINING 'item2_group1'\n",
      "INFO:pyaf.std:END_TRAINING_TIME_IN_SECONDS 'item2_group1' 1.5216121673583984\n",
      "INFO:pyaf.std:TIME_DETAIL TimeVariable='date' TimeMin=2017-01-01T00:00:00.000000 TimeMax=2017-01-05T00:00:00.000000 TimeDelta=1 days Estimation = (0 , 5) Validation = (0 , 5) Test = (0 , 5) Horizon=1\n",
      "INFO:pyaf.std:SIGNAL_DETAIL SignalVariable='_item2_group1' Min=2 Max=9  Mean=5.2 StdDev=2.56124969497\n",
      "INFO:pyaf.std:BEST_TRANSOFORMATION_TYPE '_'\n",
      "INFO:pyaf.std:BEST_DECOMPOSITION  '_item2_group1_PolyTrend_residue_zeroCycle_residue_NoAR' [PolyTrend + NoCycle + NoAR]\n",
      "INFO:pyaf.std:TREND_DETAIL '_item2_group1_PolyTrend' [PolyTrend]\n",
      "INFO:pyaf.std:CYCLE_DETAIL '_item2_group1_PolyTrend_residue_zeroCycle' [NoCycle]\n",
      "INFO:pyaf.std:AUTOREG_DETAIL '_item2_group1_PolyTrend_residue_zeroCycle_residue_NoAR' [NoAR]\n",
      "INFO:pyaf.std:MODEL_MAPE MAPE_Fit=0.0764 MAPE_Forecast=0.0764 MAPE_Test=0.0764\n",
      "INFO:pyaf.std:MODEL_MASE MASE_Fit=0.132 MASE_Forecast=0.132 MASE_Test=0.132\n",
      "INFO:pyaf.std:MODEL_L1 L1_Fit=None L1_Forecast=None L1_Test=None\n",
      "INFO:pyaf.std:MODEL_L2 L2_Fit=None L2_Forecast=None L2_Test=None\n",
      "INFO:pyaf.std:MODEL_COMPLEXITY 16\n",
      "INFO:pyaf.std:AR_MODEL_DETAIL_START\n",
      "INFO:pyaf.std:AR_MODEL_DETAIL_END\n",
      "INFO:pyaf.hierarchical:TRAINING_MODEL_LEVEL_SIGNAL 1 _group1\n",
      "INFO:pyaf.std:START_TRAINING '_group1'\n",
      "INFO:pyaf.std:END_TRAINING_TIME_IN_SECONDS '_group1' 1.9002478122711182\n",
      "INFO:pyaf.std:TIME_DETAIL TimeVariable='date' TimeMin=2017-01-01T00:00:00.000000 TimeMax=2017-01-05T00:00:00.000000 TimeDelta=1 days Estimation = (0 , 5) Validation = (0 , 5) Test = (0 , 5) Horizon=1\n",
      "INFO:pyaf.std:SIGNAL_DETAIL SignalVariable='Diff__group1' Min=-27.0 Max=21.0  Mean=1.2 StdDev=15.8290871499\n",
      "INFO:pyaf.std:BEST_TRANSOFORMATION_TYPE 'Diff_'\n",
      "INFO:pyaf.std:BEST_DECOMPOSITION  'Diff__group1_ConstantTrend_residue_zeroCycle_residue_NoAR' [ConstantTrend + NoCycle + NoAR]\n",
      "INFO:pyaf.std:TREND_DETAIL 'Diff__group1_ConstantTrend' [ConstantTrend]\n",
      "INFO:pyaf.std:CYCLE_DETAIL 'Diff__group1_ConstantTrend_residue_zeroCycle' [NoCycle]\n",
      "INFO:pyaf.std:AUTOREG_DETAIL 'Diff__group1_ConstantTrend_residue_zeroCycle_residue_NoAR' [NoAR]\n",
      "INFO:pyaf.std:MODEL_MAPE MAPE_Fit=0.3644 MAPE_Forecast=0.3644 MAPE_Test=0.3644\n",
      "INFO:pyaf.std:MODEL_MASE MASE_Fit=0.64 MASE_Forecast=0.64 MASE_Test=0.64\n",
      "INFO:pyaf.std:MODEL_L1 L1_Fit=None L1_Forecast=None L1_Test=None\n",
      "INFO:pyaf.std:MODEL_L2 L2_Fit=None L2_Forecast=None L2_Test=None\n",
      "INFO:pyaf.std:MODEL_COMPLEXITY 32\n",
      "INFO:pyaf.std:AR_MODEL_DETAIL_START\n",
      "INFO:pyaf.std:AR_MODEL_DETAIL_END\n",
      "INFO:pyaf.hierarchical:TRAINING_MODEL_LEVEL_SIGNAL 1 _group2\n",
      "INFO:pyaf.std:START_TRAINING '_group2'\n",
      "INFO:pyaf.std:END_TRAINING_TIME_IN_SECONDS '_group2' 2.2038838863372803\n",
      "INFO:pyaf.std:TIME_DETAIL TimeVariable='date' TimeMin=2017-01-01T00:00:00.000000 TimeMax=2017-01-05T00:00:00.000000 TimeDelta=1 days Estimation = (0 , 5) Validation = (0 , 5) Test = (0 , 5) Horizon=1\n",
      "INFO:pyaf.std:SIGNAL_DETAIL SignalVariable='Diff__group2' Min=-29.0 Max=20.0  Mean=-0.2 StdDev=16.0673582147\n",
      "INFO:pyaf.std:BEST_TRANSOFORMATION_TYPE 'Diff_'\n",
      "INFO:pyaf.std:BEST_DECOMPOSITION  'Diff__group2_ConstantTrend_residue_zeroCycle_residue_NoAR' [ConstantTrend + NoCycle + NoAR]\n",
      "INFO:pyaf.std:TREND_DETAIL 'Diff__group2_ConstantTrend' [ConstantTrend]\n",
      "INFO:pyaf.std:CYCLE_DETAIL 'Diff__group2_ConstantTrend_residue_zeroCycle' [NoCycle]\n",
      "INFO:pyaf.std:AUTOREG_DETAIL 'Diff__group2_ConstantTrend_residue_zeroCycle_residue_NoAR' [NoAR]\n",
      "INFO:pyaf.std:MODEL_MAPE MAPE_Fit=0.4781 MAPE_Forecast=0.4781 MAPE_Test=0.4781\n",
      "INFO:pyaf.std:MODEL_MASE MASE_Fit=0.6933 MASE_Forecast=0.6933 MASE_Test=0.6933\n",
      "INFO:pyaf.std:MODEL_L1 L1_Fit=None L1_Forecast=None L1_Test=None\n",
      "INFO:pyaf.std:MODEL_L2 L2_Fit=None L2_Forecast=None L2_Test=None\n",
      "INFO:pyaf.std:MODEL_COMPLEXITY 32\n",
      "INFO:pyaf.std:AR_MODEL_DETAIL_START\n",
      "INFO:pyaf.std:AR_MODEL_DETAIL_END\n",
      "INFO:pyaf.hierarchical:TRAINING_MODEL_LEVEL_SIGNAL 2 _\n",
      "INFO:pyaf.std:START_TRAINING '_'\n",
      "INFO:pyaf.std:END_TRAINING_TIME_IN_SECONDS '_' 2.116830825805664\n",
      "INFO:pyaf.std:TIME_DETAIL TimeVariable='date' TimeMin=2017-01-01T00:00:00.000000 TimeMax=2017-01-05T00:00:00.000000 TimeDelta=1 days Estimation = (0 , 5) Validation = (0 , 5) Test = (0 , 5) Horizon=1\n",
      "INFO:pyaf.std:SIGNAL_DETAIL SignalVariable='Diff__' Min=-56.0 Max=41.0  Mean=1.0 StdDev=31.8873015478\n",
      "INFO:pyaf.std:BEST_TRANSOFORMATION_TYPE 'Diff_'\n",
      "INFO:pyaf.std:BEST_DECOMPOSITION  'Diff___ConstantTrend_residue_zeroCycle_residue_NoAR' [ConstantTrend + NoCycle + NoAR]\n",
      "INFO:pyaf.std:TREND_DETAIL 'Diff___ConstantTrend' [ConstantTrend]\n",
      "INFO:pyaf.std:CYCLE_DETAIL 'Diff___ConstantTrend_residue_zeroCycle' [NoCycle]\n",
      "INFO:pyaf.std:AUTOREG_DETAIL 'Diff___ConstantTrend_residue_zeroCycle_residue_NoAR' [NoAR]\n",
      "INFO:pyaf.std:MODEL_MAPE MAPE_Fit=0.3887 MAPE_Forecast=0.3887 MAPE_Test=0.3887\n",
      "INFO:pyaf.std:MODEL_MASE MASE_Fit=0.6632 MASE_Forecast=0.6632 MASE_Test=0.6632\n",
      "INFO:pyaf.std:MODEL_L1 L1_Fit=None L1_Forecast=None L1_Test=None\n",
      "INFO:pyaf.std:MODEL_L2 L2_Fit=None L2_Forecast=None L2_Test=None\n",
      "INFO:pyaf.std:MODEL_COMPLEXITY 32\n",
      "INFO:pyaf.std:AR_MODEL_DETAIL_START\n",
      "INFO:pyaf.std:AR_MODEL_DETAIL_END\n",
      "INFO:pyaf.std:START_FORECASTING\n",
      "INFO:pyaf.std:END_FORECAST_TIME_IN_SECONDS 0.028155088424682617\n",
      "INFO:pyaf.std:START_FORECASTING\n",
      "INFO:pyaf.std:END_FORECAST_TIME_IN_SECONDS 0.032644033432006836\n",
      "INFO:pyaf.std:START_FORECASTING\n",
      "INFO:pyaf.std:END_FORECAST_TIME_IN_SECONDS 0.025800228118896484\n",
      "INFO:pyaf.std:START_FORECASTING\n",
      "INFO:pyaf.std:END_FORECAST_TIME_IN_SECONDS 0.031677961349487305\n"
     ]
    },
    {
     "name": "stderr",
     "output_type": "stream",
     "text": [
      "INFO:pyaf.std:START_FORECASTING\n",
      "INFO:pyaf.std:END_FORECAST_TIME_IN_SECONDS 0.025845050811767578\n",
      "INFO:pyaf.std:START_FORECASTING\n",
      "INFO:pyaf.std:END_FORECAST_TIME_IN_SECONDS 0.024108171463012695\n",
      "INFO:pyaf.std:STRUCTURE [0, 1, 2]\n",
      "INFO:pyaf.std:DATASET_COLUMNS Index(['date', 'item1_group1', 'item1_group1_Forecast', 'item1_group2',\n",
      "       'item1_group2_Forecast', 'item2_group1', 'item2_group1_Forecast',\n",
      "       '_group1', '_group1_Forecast', '_group2', '_group2_Forecast', '_',\n",
      "       '__Forecast', 'item1_group1_OC_Forecast', 'item1_group2_OC_Forecast',\n",
      "       'item2_group1_OC_Forecast', '_group1_OC_Forecast',\n",
      "       '_group2_OC_Forecast', '__OC_Forecast'],\n",
      "      dtype='object')\n",
      "INFO:pyaf.std:STRUCTURE_LEVEL (0, ['item1_group1', 'item1_group2', 'item2_group1'])\n",
      "INFO:pyaf.std:MODEL_LEVEL (0, ['item1_group1', 'item1_group2', 'item2_group1'])\n",
      "INFO:pyaf.std:STRUCTURE_LEVEL (1, ['_group1', '_group2'])\n",
      "INFO:pyaf.std:MODEL_LEVEL (1, ['_group1', '_group2'])\n",
      "INFO:pyaf.std:STRUCTURE_LEVEL (2, ['_'])\n",
      "INFO:pyaf.std:MODEL_LEVEL (2, ['_'])\n",
      "INFO:pyaf.std:REPORT_COMBINED_FORECASTS_FIT_PERF ('__OC', 29.822810062098441, 0.38869999999999999, 29.932595205788868, 0.38319999999999999)\n",
      "INFO:pyaf.std:REPORT_COMBINED_FORECASTS_VALID_PERF ('__OC', 29.822810062098441, 0.38869999999999999, 29.932595205788868, 0.38319999999999999)\n",
      "INFO:pyaf.std:REPORT_COMBINED_FORECASTS_FIT_PERF ('_group1_OC', 14.474805698177782, 0.3644, 14.634949662092144, 0.35199999999999998)\n",
      "INFO:pyaf.std:REPORT_COMBINED_FORECASTS_VALID_PERF ('_group1_OC', 14.474805698177782, 0.3644, 14.634949662092144, 0.35199999999999998)\n",
      "INFO:pyaf.std:REPORT_COMBINED_FORECASTS_FIT_PERF ('_group2_OC', 15.358385331798393, 0.47810000000000002, 15.302084476540543, 0.47539999999999999)\n",
      "INFO:pyaf.std:REPORT_COMBINED_FORECASTS_VALID_PERF ('_group2_OC', 15.358385331798393, 0.47810000000000002, 15.302084476540543, 0.47539999999999999)\n",
      "INFO:pyaf.std:REPORT_COMBINED_FORECASTS_FIT_PERF ('item1_group1_OC', 15.358385331798393, 0.47810000000000002, 15.079959562883511, 0.51349999999999996)\n",
      "INFO:pyaf.std:REPORT_COMBINED_FORECASTS_VALID_PERF ('item1_group1_OC', 15.358385331798393, 0.47810000000000002, 15.079959562883511, 0.51349999999999996)\n",
      "INFO:pyaf.std:REPORT_COMBINED_FORECASTS_FIT_PERF ('item1_group2_OC', 15.358385331798393, 0.47810000000000002, 15.302084476540543, 0.47539999999999999)\n",
      "INFO:pyaf.std:REPORT_COMBINED_FORECASTS_VALID_PERF ('item1_group2_OC', 15.358385331798393, 0.47810000000000002, 15.302084476540543, 0.47539999999999999)\n",
      "INFO:pyaf.std:REPORT_COMBINED_FORECASTS_FIT_PERF ('item2_group1_OC', 0.27230962456451102, 0.076399999999999996, 0.52117780175798822, 0.1244)\n",
      "INFO:pyaf.std:REPORT_COMBINED_FORECASTS_VALID_PERF ('item2_group1_OC', 0.27230962456451102, 0.076399999999999996, 0.52117780175798822, 0.1244)\n",
      "INFO:pyaf.std:END_HIERARCHICAL_TRAINING_TIME_IN_SECONDS 12.729576110839844\n"
     ]
    }
   ],
   "source": [
    "import pyaf.HierarchicalForecastEngine as hautof\n",
    "\n",
    "lEngine = hautof.cHierarchicalForecastEngine()\n",
    "\n",
    "lEngine.mOptions.mHierarchicalCombinationMethod = ['OC'];\n",
    "\n",
    "lEngine.train(df , 'date', 'signal', 1, lHierarchy, None);"
   ]
  },
  {
   "cell_type": "code",
   "execution_count": 67,
   "metadata": {},
   "outputs": [
    {
     "name": "stderr",
     "output_type": "stream",
     "text": [
      "INFO:pyaf.std:START_HIERARCHICAL_FORECASTING\n",
      "INFO:pyaf.std:START_FORECASTING\n",
      "INFO:pyaf.std:END_FORECAST_TIME_IN_SECONDS 0.034377098083496094\n",
      "INFO:pyaf.std:START_FORECASTING\n",
      "INFO:pyaf.std:END_FORECAST_TIME_IN_SECONDS 0.044975996017456055\n",
      "INFO:pyaf.std:START_FORECASTING\n",
      "INFO:pyaf.std:END_FORECAST_TIME_IN_SECONDS 0.034278154373168945\n",
      "INFO:pyaf.std:START_FORECASTING\n",
      "INFO:pyaf.std:END_FORECAST_TIME_IN_SECONDS 0.029954195022583008\n",
      "INFO:pyaf.std:START_FORECASTING\n",
      "INFO:pyaf.std:END_FORECAST_TIME_IN_SECONDS 0.031301021575927734\n",
      "INFO:pyaf.std:START_FORECASTING\n",
      "INFO:pyaf.std:END_FORECAST_TIME_IN_SECONDS 0.036103010177612305\n",
      "INFO:pyaf.std:END_HIERARCHICAL_FORECAST_TIME_IN_SECONDS 0.2590470314025879\n"
     ]
    }
   ],
   "source": [
    "df_forecast = lEngine.forecast(iInputDS = df, iHorizon = 1)"
   ]
  },
  {
   "cell_type": "code",
   "execution_count": 71,
   "metadata": {},
   "outputs": [
    {
     "data": {
      "text/html": [
       "<div>\n",
       "<style>\n",
       "    .dataframe thead tr:only-child th {\n",
       "        text-align: right;\n",
       "    }\n",
       "\n",
       "    .dataframe thead th {\n",
       "        text-align: left;\n",
       "    }\n",
       "\n",
       "    .dataframe tbody tr th {\n",
       "        vertical-align: top;\n",
       "    }\n",
       "</style>\n",
       "<table border=\"1\" class=\"dataframe\">\n",
       "  <thead>\n",
       "    <tr style=\"text-align: right;\">\n",
       "      <th></th>\n",
       "      <th>date</th>\n",
       "      <th>item1_group1_OC_Forecast</th>\n",
       "      <th>item1_group2_OC_Forecast</th>\n",
       "      <th>item2_group1_OC_Forecast</th>\n",
       "    </tr>\n",
       "  </thead>\n",
       "  <tbody>\n",
       "    <tr>\n",
       "      <th>0</th>\n",
       "      <td>2017-01-01</td>\n",
       "      <td>4.486542</td>\n",
       "      <td>3.937308</td>\n",
       "      <td>2.301533</td>\n",
       "    </tr>\n",
       "    <tr>\n",
       "      <th>1</th>\n",
       "      <td>2017-01-02</td>\n",
       "      <td>4.141353</td>\n",
       "      <td>3.708271</td>\n",
       "      <td>3.933836</td>\n",
       "    </tr>\n",
       "    <tr>\n",
       "      <th>2</th>\n",
       "      <td>2017-01-03</td>\n",
       "      <td>3.790390</td>\n",
       "      <td>3.478078</td>\n",
       "      <td>5.575376</td>\n",
       "    </tr>\n",
       "    <tr>\n",
       "      <th>3</th>\n",
       "      <td>2017-01-04</td>\n",
       "      <td>3.433652</td>\n",
       "      <td>3.246730</td>\n",
       "      <td>7.226156</td>\n",
       "    </tr>\n",
       "    <tr>\n",
       "      <th>4</th>\n",
       "      <td>2017-01-05</td>\n",
       "      <td>3.071140</td>\n",
       "      <td>3.014228</td>\n",
       "      <td>8.886176</td>\n",
       "    </tr>\n",
       "    <tr>\n",
       "      <th>5</th>\n",
       "      <td>2017-01-06</td>\n",
       "      <td>2.702852</td>\n",
       "      <td>2.780570</td>\n",
       "      <td>10.555437</td>\n",
       "    </tr>\n",
       "  </tbody>\n",
       "</table>\n",
       "</div>"
      ],
      "text/plain": [
       "        date  item1_group1_OC_Forecast  item1_group2_OC_Forecast  \\\n",
       "0 2017-01-01                  4.486542                  3.937308   \n",
       "1 2017-01-02                  4.141353                  3.708271   \n",
       "2 2017-01-03                  3.790390                  3.478078   \n",
       "3 2017-01-04                  3.433652                  3.246730   \n",
       "4 2017-01-05                  3.071140                  3.014228   \n",
       "5 2017-01-06                  2.702852                  2.780570   \n",
       "\n",
       "   item2_group1_OC_Forecast  \n",
       "0                  2.301533  \n",
       "1                  3.933836  \n",
       "2                  5.575376  \n",
       "3                  7.226156  \n",
       "4                  8.886176  \n",
       "5                 10.555437  "
      ]
     },
     "execution_count": 71,
     "metadata": {},
     "output_type": "execute_result"
    }
   ],
   "source": [
    "df_forecast[['date', 'item1_group1_OC_Forecast', 'item1_group2_OC_Forecast', 'item2_group1_OC_Forecast']]"
   ]
  }
 ],
 "metadata": {
  "kernelspec": {
   "display_name": "Python 3",
   "language": "python",
   "name": "python3"
  },
  "language_info": {
   "codemirror_mode": {
    "name": "ipython",
    "version": 3
   },
   "file_extension": ".py",
   "mimetype": "text/x-python",
   "name": "python",
   "nbconvert_exporter": "python",
   "pygments_lexer": "ipython3",
   "version": "3.6.2"
  }
 },
 "nbformat": 4,
 "nbformat_minor": 2
}
